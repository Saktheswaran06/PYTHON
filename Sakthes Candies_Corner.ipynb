{
 "cells": [
  {
   "cell_type": "code",
   "execution_count": null,
   "id": "3916c03c",
   "metadata": {},
   "outputs": [],
   "source": [
    "print(\"********************************************************************************************\")\n",
    "print(\"**************************WELCOME TO CANDIES CORNER SHOP*************************************\")\n",
    "CANDY=1000\n",
    "COST=5\n",
    "print(\"Do you want to buy some candies ?\")\n",
    "print(\"PRESS Y TO SAY YES AND N TO SAY NO\")\n",
    "ch=input(\" ENTER YES OR NO\")\n",
    "while ch=='Y' or ch=='y':\n",
    "    print(\"How many Candies would you like?\")\n",
    "    candies=int(input(\"ENTER THE NO OF CANDIES YOU WANT\"))\n",
    "    if candies<=CANDY:\n",
    "        Amount=candies*COST\n",
    "        print(\"HERE ARE YOUR CANDIES, YOUR TOTAL WOULD BE RS\",Amount)\n",
    "        if CANDY-candies>0:\n",
    "            print(\"WE HAVE\",CANDY-candies, \"left in the shop, Do you need more?\")\n",
    "            ch=input(\"ENTER YES OR NO\")\n",
    "            CANDY=CANDY-candies\n",
    "    else:\n",
    "        print(\"SORRY WE DON'T HAVE ENOUGH CANDIES PLEASE COME TOMORROW\")\n",
    "        print(\"SORRY for the inconvienience Please come again\")\n",
    "        break\n",
    "if ch==\"N\" or ch==\"n\":\n",
    "    print(\"Thank You,Please Do Visit Again!\")\n",
    " \n",
    "    \n",
    "\n",
    "    "
   ]
  }
 ],
 "metadata": {
  "kernelspec": {
   "display_name": "Python 3 (ipykernel)",
   "language": "python",
   "name": "python3"
  },
  "language_info": {
   "codemirror_mode": {
    "name": "ipython",
    "version": 3
   },
   "file_extension": ".py",
   "mimetype": "text/x-python",
   "name": "python",
   "nbconvert_exporter": "python",
   "pygments_lexer": "ipython3",
   "version": "3.9.13"
  }
 },
 "nbformat": 4,
 "nbformat_minor": 5
}
